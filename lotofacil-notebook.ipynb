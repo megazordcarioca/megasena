{
 "cells": [
  {
   "cell_type": "code",
   "execution_count": 1,
   "id": "0f990198",
   "metadata": {},
   "outputs": [],
   "source": [
    "from random import shuffle"
   ]
  },
  {
   "cell_type": "code",
   "execution_count": 2,
   "id": "1ecd764d",
   "metadata": {},
   "outputs": [],
   "source": [
    "import pandas as pd"
   ]
  },
  {
   "cell_type": "code",
   "execution_count": 3,
   "id": "379ef72b",
   "metadata": {},
   "outputs": [],
   "source": [
    "import json, numpy, requests, csv"
   ]
  },
  {
   "cell_type": "code",
   "execution_count": 4,
   "id": "8699a775",
   "metadata": {},
   "outputs": [],
   "source": [
    "filePath = './src/lotofacil.csv'"
   ]
  },
  {
   "cell_type": "code",
   "execution_count": 17,
   "id": "8a76e884",
   "metadata": {},
   "outputs": [],
   "source": [
    "def webScrapping():\n",
    "    print(\"Sincronizando dados...Isso pode demorar um pouco\")\n",
    "    data = {}\n",
    "    request = requests.get('https://loteriascaixa-api.herokuapp.com/api/lotofacil') #Pega os resultados por meio de um método GET\n",
    "    print(\"Dados coletados!\")\n",
    "    data = json.loads(request.content) #Itera em cima dos response e extrai os resultdados\n",
    "    print(\"Criando a planilha e escrevendo dados\")\n",
    "    file = open(filePath,'a+') #Cria um arquivo csv caso não exista no path\n",
    "    with open(filePath, 'w') as f: #Escreve os resultados em um csv novo ou sobrescreve\n",
    "        es = csv.DictWriter(f, fieldnames = data[0].keys())\n",
    "        es.writeheader()\n",
    "        es.writerows(data)\n",
    "        \n",
    "    print(\"Dados adquiridos com sucesso! Segura minha cerveja, eu assumo daqui. Pode beber se quiser\")"
   ]
  },
  {
   "cell_type": "code",
   "execution_count": 106,
   "id": "6fe333bd",
   "metadata": {},
   "outputs": [],
   "source": [
    "def dataMining():\n",
    "    df = pd.read_csv(filePath, sep=',')\n",
    "    df.dezenas[0:3]\n",
    "    print(df.dezenas[0:3])\n",
    "    "
   ]
  },
  {
   "cell_type": "code",
   "execution_count": 107,
   "id": "43082368",
   "metadata": {},
   "outputs": [
    {
     "name": "stdout",
     "output_type": "stream",
     "text": [
      "0    ['01', '02', '03', '04', '06', '07', '09', '10...\n",
      "1    ['02', '03', '05', '06', '08', '09', '10', '14...\n",
      "2    ['01', '02', '03', '04', '06', '10', '13', '16...\n",
      "Name: dezenas, dtype: object\n",
      "None\n"
     ]
    }
   ],
   "source": [
    "print(dataMining())"
   ]
  },
  {
   "cell_type": "code",
   "execution_count": null,
   "id": "2039e9f9",
   "metadata": {},
   "outputs": [],
   "source": []
  }
 ],
 "metadata": {
  "kernelspec": {
   "display_name": "Python 3 (ipykernel)",
   "language": "python",
   "name": "python3"
  },
  "language_info": {
   "codemirror_mode": {
    "name": "ipython",
    "version": 3
   },
   "file_extension": ".py",
   "mimetype": "text/x-python",
   "name": "python",
   "nbconvert_exporter": "python",
   "pygments_lexer": "ipython3",
   "version": "3.10.6"
  }
 },
 "nbformat": 4,
 "nbformat_minor": 5
}
