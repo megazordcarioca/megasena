{
 "cells": [
  {
   "cell_type": "code",
   "execution_count": 2,
   "id": "a52600e6",
   "metadata": {},
   "outputs": [],
   "source": [
    "from random import shuffle"
   ]
  },
  {
   "cell_type": "code",
   "execution_count": 3,
   "id": "2af8c330",
   "metadata": {},
   "outputs": [],
   "source": [
    "import pandas as pd"
   ]
  },
  {
   "cell_type": "code",
   "execution_count": 4,
   "id": "c6625dec",
   "metadata": {},
   "outputs": [],
   "source": [
    "import json, numpy, requests, csv, emoji"
   ]
  },
  {
   "cell_type": "code",
   "execution_count": 5,
   "id": "5d03c9ea",
   "metadata": {},
   "outputs": [],
   "source": [
    "filePath = './src/lotofacil.csv'"
   ]
  },
  {
   "cell_type": "code",
   "execution_count": 22,
   "id": "13e69137",
   "metadata": {},
   "outputs": [],
   "source": [
    "def webScrapping():\n",
    "    print(\"Sincronizando dados...Isso pode demorar um pouco\")\n",
    "    data = {}\n",
    "    request = requests.get('https://loteriascaixa-api.herokuapp.com/api/lotofacil') #Pega os resultados por meio de um método GET\n",
    "    print(\"Dados coletados!\")\n",
    "    data = json.loads(request.content) #Itera em cima dos response e extrai os resultdados\n",
    "    print(\"Criando a planilha e escrevendo dados\")\n",
    "    file = open(filePath,'a+') #Cria um arquivo csv caso não exista no path\n",
    "    with open(filePath, 'w') as f: #Escreve os resultados em um csv novo ou sobrescreve\n",
    "        es = csv.DictWriter(f, fieldnames = data[0].keys())\n",
    "        es.writeheader()\n",
    "        es.writerows(data)\n",
    "        \n",
    "    print(\"Dados adquiridos com sucesso! Segura minha cerveja, eu assumo daqui. Pode beber se quiser\")"
   ]
  },
  {
   "cell_type": "code",
   "execution_count": 65,
   "id": "a66ef691",
   "metadata": {},
   "outputs": [],
   "source": [
    "def dataMining():\n",
    "    df = pd.read_csv(filePath)\n",
    "    filtred_data = df.filter(items=['dezenas'])\n",
    "    print(filtred_data)"
   ]
  },
  {
   "cell_type": "code",
   "execution_count": 64,
   "id": "ad3310cb",
   "metadata": {},
   "outputs": [
    {
     "ename": "TypeError",
     "evalue": "Keyword arguments `items`, `like`, or `regex` are mutually exclusive",
     "output_type": "error",
     "traceback": [
      "\u001b[0;31m---------------------------------------------------------------------------\u001b[0m",
      "\u001b[0;31mTypeError\u001b[0m                                 Traceback (most recent call last)",
      "Input \u001b[0;32mIn [64]\u001b[0m, in \u001b[0;36m<cell line: 1>\u001b[0;34m()\u001b[0m\n\u001b[0;32m----> 1\u001b[0m \u001b[38;5;28mprint\u001b[39m(\u001b[43mdataMining\u001b[49m\u001b[43m(\u001b[49m\u001b[43m)\u001b[49m)\n",
      "Input \u001b[0;32mIn [62]\u001b[0m, in \u001b[0;36mdataMining\u001b[0;34m()\u001b[0m\n\u001b[1;32m      1\u001b[0m \u001b[38;5;28;01mdef\u001b[39;00m \u001b[38;5;21mdataMining\u001b[39m():\n\u001b[1;32m      2\u001b[0m     df \u001b[38;5;241m=\u001b[39m pd\u001b[38;5;241m.\u001b[39mread_csv(filePath)\n\u001b[0;32m----> 3\u001b[0m     filtred_data \u001b[38;5;241m=\u001b[39m \u001b[43mdf\u001b[49m\u001b[38;5;241;43m.\u001b[39;49m\u001b[43mfilter\u001b[49m\u001b[43m(\u001b[49m\u001b[43mitems\u001b[49m\u001b[38;5;241;43m=\u001b[39;49m\u001b[43m[\u001b[49m\u001b[38;5;124;43m'\u001b[39;49m\u001b[38;5;124;43mdezenas\u001b[39;49m\u001b[38;5;124;43m'\u001b[39;49m\u001b[43m]\u001b[49m\u001b[43m,\u001b[49m\u001b[43m \u001b[49m\u001b[43mregex\u001b[49m\u001b[38;5;241;43m=\u001b[39;49m\u001b[38;5;124;43m'\u001b[39;49m\u001b[38;5;124;43me$\u001b[39;49m\u001b[38;5;124;43m'\u001b[39;49m\u001b[43m,\u001b[49m\u001b[43m \u001b[49m\u001b[43maxis\u001b[49m\u001b[38;5;241;43m=\u001b[39;49m\u001b[38;5;241;43m1\u001b[39;49m\u001b[43m)\u001b[49m\n\u001b[1;32m      4\u001b[0m     \u001b[38;5;28mprint\u001b[39m(filtred_data)\n",
      "File \u001b[0;32m~/.local/lib/python3.10/site-packages/pandas/core/generic.py:5120\u001b[0m, in \u001b[0;36mNDFrame.filter\u001b[0;34m(self, items, like, regex, axis)\u001b[0m\n\u001b[1;32m   5118\u001b[0m nkw \u001b[38;5;241m=\u001b[39m com\u001b[38;5;241m.\u001b[39mcount_not_none(items, like, regex)\n\u001b[1;32m   5119\u001b[0m \u001b[38;5;28;01mif\u001b[39;00m nkw \u001b[38;5;241m>\u001b[39m \u001b[38;5;241m1\u001b[39m:\n\u001b[0;32m-> 5120\u001b[0m     \u001b[38;5;28;01mraise\u001b[39;00m \u001b[38;5;167;01mTypeError\u001b[39;00m(\n\u001b[1;32m   5121\u001b[0m         \u001b[38;5;124m\"\u001b[39m\u001b[38;5;124mKeyword arguments `items`, `like`, or `regex` \u001b[39m\u001b[38;5;124m\"\u001b[39m\n\u001b[1;32m   5122\u001b[0m         \u001b[38;5;124m\"\u001b[39m\u001b[38;5;124mare mutually exclusive\u001b[39m\u001b[38;5;124m\"\u001b[39m\n\u001b[1;32m   5123\u001b[0m     )\n\u001b[1;32m   5125\u001b[0m \u001b[38;5;28;01mif\u001b[39;00m axis \u001b[38;5;129;01mis\u001b[39;00m \u001b[38;5;28;01mNone\u001b[39;00m:\n\u001b[1;32m   5126\u001b[0m     axis \u001b[38;5;241m=\u001b[39m \u001b[38;5;28mself\u001b[39m\u001b[38;5;241m.\u001b[39m_info_axis_name\n",
      "\u001b[0;31mTypeError\u001b[0m: Keyword arguments `items`, `like`, or `regex` are mutually exclusive"
     ]
    }
   ],
   "source": [
    "print(dataMining())"
   ]
  }
 ],
 "metadata": {
  "kernelspec": {
   "display_name": "Python 3 (ipykernel)",
   "language": "python",
   "name": "python3"
  },
  "language_info": {
   "codemirror_mode": {
    "name": "ipython",
    "version": 3
   },
   "file_extension": ".py",
   "mimetype": "text/x-python",
   "name": "python",
   "nbconvert_exporter": "python",
   "pygments_lexer": "ipython3",
   "version": "3.10.6"
  }
 },
 "nbformat": 4,
 "nbformat_minor": 5
}
