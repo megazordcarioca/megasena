{
 "cells": [
  {
   "cell_type": "code",
   "execution_count": 1,
   "id": "0f990198",
   "metadata": {},
   "outputs": [],
   "source": [
    "from random import shuffle"
   ]
  },
  {
   "cell_type": "code",
   "execution_count": 2,
   "id": "1ecd764d",
   "metadata": {},
   "outputs": [],
   "source": [
    "import pandas as pd"
   ]
  },
  {
   "cell_type": "code",
   "execution_count": 3,
   "id": "379ef72b",
   "metadata": {},
   "outputs": [],
   "source": [
    "import json, numpy, requests, csv"
   ]
  },
  {
   "cell_type": "code",
   "execution_count": 4,
   "id": "8699a775",
   "metadata": {},
   "outputs": [],
   "source": [
    "filePath = './src/lotofacil.csv'"
   ]
  },
  {
   "cell_type": "code",
   "execution_count": 5,
   "id": "8a76e884",
   "metadata": {},
   "outputs": [],
   "source": [
    "def webScrapping():\n",
    "    print(\"Sincronizando dados...Isso pode demorar um pouco\")\n",
    "    data = {}\n",
    "    request = requests.get('https://loteriascaixa-api.herokuapp.com/api/lotofacil') #Pega os resultados por meio de um método GET\n",
    "    print(\"Dados coletados!\")\n",
    "    data = json.loads(request.content) #Itera em cima dos response e extrai os resultdados\n",
    "    print(\"Criando a planilha e escrevendo dados\")\n",
    "    file = open(filePath,'a+') #Cria um arquivo csv caso não exista no path\n",
    "    with open(filePath, 'w') as f: #Escreve os resultados em um csv novo ou sobrescreve\n",
    "        es = csv.DictWriter(f, fieldnames = data[0].keys())\n",
    "        es.writeheader()\n",
    "        es.writerows(data)\n",
    "        \n",
    "    print(\"Dados adquiridos com sucesso! Segura minha cerveja, eu assumo daqui. Pode beber se quiser\")"
   ]
  },
  {
   "cell_type": "code",
   "execution_count": 33,
   "id": "6fe333bd",
   "metadata": {},
   "outputs": [],
   "source": [
    "def dataMining():\n",
    "    df = pd.read_csv(filePath)\n",
    "    df.head()\n",
    "    print(df)\n",
    "    "
   ]
  },
  {
   "cell_type": "code",
   "execution_count": 34,
   "id": "43082368",
   "metadata": {},
   "outputs": [
    {
     "name": "stdout",
     "output_type": "stream",
     "text": [
      "        loteria       nome  concurso        data  \\\n",
      "0     lotofacil  Lotofácil      2616  17/09/2022   \n",
      "1     lotofacil  Lotofácil      2615  16/09/2022   \n",
      "2     lotofacil  Lotofácil      2614  15/09/2022   \n",
      "3     lotofacil  Lotofácil      2613  14/09/2022   \n",
      "4     lotofacil  Lotofácil      2612  13/09/2022   \n",
      "...         ...        ...       ...         ...   \n",
      "2611  lotofacil  Lotofácil         5  27/10/2003   \n",
      "2612  lotofacil  Lotofácil         4  20/10/2003   \n",
      "2613  lotofacil  Lotofácil         3  13/10/2003   \n",
      "2614  lotofacil  Lotofácil         2  06/10/2003   \n",
      "2615  lotofacil  Lotofácil         1  29/09/2003   \n",
      "\n",
      "                             local  \\\n",
      "0     ESPAÇODASORTE em SÃOPAULO,SP   \n",
      "1     ESPAÇODASORTE em SÃOPAULO,SP   \n",
      "2     ESPAÇODASORTE em SÃOPAULO,SP   \n",
      "3     ESPAÇODASORTE em SÃOPAULO,SP   \n",
      "4     ESPAÇODASORTE em SÃOPAULO,SP   \n",
      "...                            ...   \n",
      "2611                           NaN   \n",
      "2612                           NaN   \n",
      "2613                           NaN   \n",
      "2614                           NaN   \n",
      "2615                           NaN   \n",
      "\n",
      "                                                dezenas  \\\n",
      "0     ['01', '02', '03', '04', '06', '07', '09', '10...   \n",
      "1     ['02', '03', '05', '06', '08', '09', '10', '14...   \n",
      "2     ['01', '02', '03', '04', '06', '10', '13', '16...   \n",
      "3     ['01', '02', '03', '05', '06', '08', '11', '14...   \n",
      "4     ['01', '03', '06', '09', '10', '11', '13', '16...   \n",
      "...                                                 ...   \n",
      "2611  ['01', '02', '04', '08', '09', '11', '12', '13...   \n",
      "2612  ['01', '02', '04', '05', '08', '10', '12', '13...   \n",
      "2613  ['01', '04', '06', '07', '08', '09', '10', '11...   \n",
      "2614  ['01', '04', '05', '06', '07', '09', '11', '12...   \n",
      "2615  ['02', '03', '05', '06', '09', '10', '11', '13...   \n",
      "\n",
      "                                             premiacoes  \\\n",
      "0     [{'acertos': '15 Pontos', 'vencedores': 3, 'pr...   \n",
      "1     [{'acertos': '15 Pontos', 'vencedores': 5, 'pr...   \n",
      "2     [{'acertos': '15 Pontos', 'vencedores': 0, 'pr...   \n",
      "3     [{'acertos': '15 Pontos', 'vencedores': 2, 'pr...   \n",
      "4     [{'acertos': '15 Pontos', 'vencedores': 1, 'pr...   \n",
      "...                                                 ...   \n",
      "2611  [{'acertos': '15 Pontos', 'vencedores': 2, 'pr...   \n",
      "2612  [{'acertos': '15 Pontos', 'vencedores': 1, 'pr...   \n",
      "2613  [{'acertos': '15 Pontos', 'vencedores': 2, 'pr...   \n",
      "2614  [{'acertos': '15 Pontos', 'vencedores': 1, 'pr...   \n",
      "2615  [{'acertos': '15 Pontos', 'vencedores': 5, 'pr...   \n",
      "\n",
      "                                       estadosPremiados  acumulou  \\\n",
      "0     [{'nome': 'Bahia', 'uf': 'BA', 'vencedores': '...     False   \n",
      "1     [{'nome': 'Paraná', 'uf': 'PR', 'vencedores': ...     False   \n",
      "2                                                    []      True   \n",
      "3     [{'nome': 'Paraíba', 'uf': 'PB', 'vencedores':...     False   \n",
      "4     [{'nome': 'São Paulo', 'uf': 'SP', 'vencedores...     False   \n",
      "...                                                 ...       ...   \n",
      "2611  [{'nome': 'Bahia', 'uf': 'BA', 'vencedores': '...     False   \n",
      "2612  [{'nome': 'Mato Grosso', 'uf': 'MT', 'vencedor...     False   \n",
      "2613  [{'nome': 'São Paulo', 'uf': 'SP', 'vencedores...     False   \n",
      "2614  [{'nome': 'São Paulo', 'uf': 'SP', 'vencedores...     False   \n",
      "2615  [{'nome': 'Bahia', 'uf': 'BA', 'vencedores': '...     False   \n",
      "\n",
      "     acumuladaProxConcurso dataProxConcurso  proxConcurso  timeCoracao  \\\n",
      "0            R$ 1,5 Milhão       19/09/2022          2617          NaN   \n",
      "1                      NaN              NaN          2616          NaN   \n",
      "2                      NaN              NaN          2615          NaN   \n",
      "3                      NaN              NaN          2614          NaN   \n",
      "4                      NaN              NaN          2613          NaN   \n",
      "...                    ...              ...           ...          ...   \n",
      "2611                   NaN              NaN             6          NaN   \n",
      "2612                   NaN              NaN             5          NaN   \n",
      "2613                   NaN              NaN             4          NaN   \n",
      "2614                   NaN              NaN             3          NaN   \n",
      "2615                   NaN              NaN             2          NaN   \n",
      "\n",
      "      mesSorte  \n",
      "0          NaN  \n",
      "1          NaN  \n",
      "2          NaN  \n",
      "3          NaN  \n",
      "4          NaN  \n",
      "...        ...  \n",
      "2611       NaN  \n",
      "2612       NaN  \n",
      "2613       NaN  \n",
      "2614       NaN  \n",
      "2615       NaN  \n",
      "\n",
      "[2616 rows x 14 columns]\n",
      "None\n"
     ]
    }
   ],
   "source": [
    "print(dataMining())"
   ]
  },
  {
   "cell_type": "code",
   "execution_count": null,
   "id": "2039e9f9",
   "metadata": {},
   "outputs": [],
   "source": []
  }
 ],
 "metadata": {
  "kernelspec": {
   "display_name": "Python 3 (ipykernel)",
   "language": "python",
   "name": "python3"
  },
  "language_info": {
   "codemirror_mode": {
    "name": "ipython",
    "version": 3
   },
   "file_extension": ".py",
   "mimetype": "text/x-python",
   "name": "python",
   "nbconvert_exporter": "python",
   "pygments_lexer": "ipython3",
   "version": "3.10.6"
  }
 },
 "nbformat": 4,
 "nbformat_minor": 5
}
